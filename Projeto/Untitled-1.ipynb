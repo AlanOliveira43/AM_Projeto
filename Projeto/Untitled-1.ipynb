{
 "cells": [
  {
   "cell_type": "markdown",
   "metadata": {},
   "source": [
    "# Sobre o dataset\n",
    "Dataset formado por 28.2k de fotos divididas em 8 emoções sendo elas: raiva, desgosto, medo, felicidade, neutro, tristeza e surpresa"
   ]
  },
  {
   "cell_type": "code",
   "execution_count": 8,
   "metadata": {},
   "outputs": [
    {
     "name": "stdout",
     "output_type": "stream",
     "text": [
      "Requirement already satisfied: pillow in /home/alan/.local/lib/python3.8/site-packages (10.0.0)\n",
      "Note: you may need to restart the kernel to use updated packages.\n"
     ]
    }
   ],
   "source": [
    "pip install pillow\n"
   ]
  },
  {
   "cell_type": "code",
   "execution_count": 7,
   "metadata": {},
   "outputs": [
    {
     "name": "stdout",
     "output_type": "stream",
     "text": [
      "Collecting scikit-learn\n",
      "  Downloading scikit_learn-1.3.0-cp38-cp38-manylinux_2_17_x86_64.manylinux2014_x86_64.whl (11.1 MB)\n",
      "\u001b[K     |████████████████████████████████| 11.1 MB 4.4 MB/s eta 0:00:01\n",
      "\u001b[?25hRequirement already satisfied: numpy>=1.17.3 in /home/alan/.local/lib/python3.8/site-packages (from scikit-learn) (1.23.4)\n",
      "Collecting joblib>=1.1.1\n",
      "  Downloading joblib-1.3.1-py3-none-any.whl (301 kB)\n",
      "\u001b[K     |████████████████████████████████| 301 kB 15.2 MB/s eta 0:00:01\n",
      "\u001b[?25hCollecting threadpoolctl>=2.0.0\n",
      "  Downloading threadpoolctl-3.2.0-py3-none-any.whl (15 kB)\n",
      "Collecting scipy>=1.5.0\n",
      "  Downloading scipy-1.10.1-cp38-cp38-manylinux_2_17_x86_64.manylinux2014_x86_64.whl (34.5 MB)\n",
      "\u001b[K     |████████████████████████████████| 34.5 MB 354 kB/s eta 0:00:012\n",
      "\u001b[?25hInstalling collected packages: joblib, threadpoolctl, scipy, scikit-learn\n",
      "Successfully installed joblib-1.3.1 scikit-learn-1.3.0 scipy-1.10.1 threadpoolctl-3.2.0\n",
      "Note: you may need to restart the kernel to use updated packages.\n"
     ]
    }
   ],
   "source": [
    "pip install scikit-learn"
   ]
  },
  {
   "cell_type": "code",
   "execution_count": 2,
   "metadata": {},
   "outputs": [
    {
     "name": "stdout",
     "output_type": "stream",
     "text": [
      "Collecting opencv-python\n",
      "  Downloading opencv_python-4.8.0.74-cp37-abi3-manylinux_2_17_x86_64.manylinux2014_x86_64.whl (61.7 MB)\n",
      "\u001b[K     |████████████████████████████████| 61.7 MB 5.0 MB/s eta 0:00:01\n",
      "\u001b[?25hRequirement already satisfied: numpy>=1.17.3; python_version >= \"3.8\" in /home/alan/.local/lib/python3.8/site-packages (from opencv-python) (1.23.4)\n",
      "Installing collected packages: opencv-python\n",
      "Successfully installed opencv-python-4.8.0.74\n",
      "Note: you may need to restart the kernel to use updated packages.\n"
     ]
    }
   ],
   "source": [
    "pip install opencv-python"
   ]
  },
  {
   "cell_type": "code",
   "execution_count": 4,
   "metadata": {},
   "outputs": [],
   "source": [
    "from PIL import Image\n",
    "import os\n",
    "\n",
    "folder_path = 'Data'  # Substitua pelo caminho da sua pasta\n",
    "output_folder = 'Data2'  # Substitua pelo caminho da pasta de saída\n",
    "\n",
    "# Função para pré-processar as imagens\n",
    "def preprocess_image(input_path, output_path):\n",
    "    # Abrir a imagem\n",
    "    image = Image.open(input_path)\n",
    "    \n",
    "    # Redimensionar a imagem para um tamanho específico\n",
    "    new_size = (62, 47)  # Substitua pelo tamanho desejado\n",
    "    image = image.resize(new_size)\n",
    "    \n",
    "    # Converter a imagem para escala de cinza\n",
    "    image = image.convert('L')\n",
    "    \n",
    "    # Salvar a imagem pré-processada\n",
    "    image.save(output_path)\n",
    "    \n",
    "# Percorrer os arquivos na pasta e pré-processar as imagens\n",
    "for root, dirs, files in os.walk(folder_path):\n",
    "    for file in files:\n",
    "        if file.endswith('.jpg') or file.endswith('.png'):  # Filtrar apenas arquivos de imagem\n",
    "            input_path = os.path.join(root, file)\n",
    "            output_file = file.split('.')[0] + '_preprocessed.jpg'  # Renomear o arquivo de saída conforme necessário\n",
    "            output_path = os.path.join(output_folder, output_file)\n",
    "            \n",
    "            preprocess_image(input_path, output_path)\n"
   ]
  },
  {
   "cell_type": "markdown",
   "metadata": {},
   "source": [
    "# Classificação por SVC"
   ]
  },
  {
   "cell_type": "code",
   "execution_count": 2,
   "metadata": {},
   "outputs": [
    {
     "name": "stdout",
     "output_type": "stream",
     "text": [
      "Acurácia do modelo: 0.4175\n"
     ]
    }
   ],
   "source": [
    "import os\n",
    "import numpy as np\n",
    "from PIL import Image\n",
    "from sklearn.model_selection import train_test_split\n",
    "from sklearn.svm import SVC\n",
    "from sklearn.metrics import accuracy_score\n",
    "\n",
    "folder_path = 'Data'  # Substitua pelo caminho da pasta de imagens\n",
    "label_map = {'anger': 0, 'contempt': 1, 'disgust': 2, 'fear': 3,'happy': 4, 'neutral': 5, 'sad': 6, 'surprise': 7}  # Mapeamento dos rótulos para valores numéricos\n",
    "max_images_per_label = 1000\n",
    "\n",
    "# Função para extrair as features das imagens\n",
    "def extract_features(image_path):\n",
    "    image = Image.open(image_path)\n",
    "    image = image.resize((62, 47))  # Redimensionar a imagem conforme necessário\n",
    "    image = np.array(image)\n",
    "    flattened_image = image.flatten()\n",
    "    return flattened_image\n",
    "\n",
    "# Dicionário para rastrear o número de imagens por rótulo\n",
    "image_count = {}\n",
    "\n",
    "# Lista para armazenar as features das imagens\n",
    "X = []\n",
    "\n",
    "# Lista para armazenar os rótulos das imagens\n",
    "y = []\n",
    "\n",
    "# Percorrer os arquivos na pasta de imagens\n",
    "for root, dirs, files in os.walk(folder_path):\n",
    "    for file in files:\n",
    "        if file.endswith('.jpg') or file.endswith('.png'):  # Filtrar apenas arquivos de imagem\n",
    "            image_path = os.path.join(root, file)\n",
    "            label = root.split('/')[-1]  # Extrair o rótulo da pasta pai\n",
    "            \n",
    "            # Verificar se o número máximo de imagens para o rótulo foi atingido\n",
    "            if label in image_count and image_count[label] >= max_images_per_label:\n",
    "                continue\n",
    "            \n",
    "            # Atualizar o contador de imagens para o rótulo atual\n",
    "            image_count[label] = image_count.get(label, 0) + 1\n",
    "            \n",
    "            features = extract_features(image_path)\n",
    "            X.append(features)\n",
    "            y.append(label_map[label])\n",
    "\n",
    "# Converter as listas para arrays numpy\n",
    "X = np.array(X)\n",
    "y = np.array(y)\n",
    "\n",
    "# Dividir os dados em conjuntos de treinamento e teste\n",
    "X_train, X_test, y_train, y_test = train_test_split(X, y, test_size=0.2, random_state=42)\n",
    "\n",
    "# Treinar o modelo de aprendizado de máquina\n",
    "model = SVC()\n",
    "model.fit(X_train, y_train)\n",
    "\n",
    "# Realizar previsões no conjunto de teste\n",
    "y_pred = model.predict(X_test)\n",
    "\n",
    "# Calcular a acurácia do modelo\n",
    "accuracy = accuracy_score(y_test, y_pred)\n",
    "print(\"Acurácia do modelo:\", accuracy)\n"
   ]
  },
  {
   "cell_type": "code",
   "execution_count": 5,
   "metadata": {},
   "outputs": [
    {
     "name": "stdout",
     "output_type": "stream",
     "text": [
      "Acurácia do modelo: 0.5173007402306765\n"
     ]
    }
   ],
   "source": [
    "import os\n",
    "import numpy as np\n",
    "from PIL import Image\n",
    "from sklearn.model_selection import train_test_split\n",
    "from sklearn.svm import SVC\n",
    "from sklearn.metrics import accuracy_score\n",
    "\n",
    "folder_path = 'Data'  # Substitua pelo caminho da pasta de imagens\n",
    "label_map = {'anger': 0, 'contempt': 1, 'disgust': 2, 'fear': 3 ,'happy': 4, 'neutral': 5, 'sad': 6, 'surprise': 7}  # Mapeamento dos rótulos para valores numéricos\n",
    "\n",
    "\n",
    "# Função para extrair as features das imagens\n",
    "def extract_features(image_path):\n",
    "    image = Image.open(image_path)\n",
    "    image = image.resize((62, 47))  # Redimensionar a imagem conforme necessário\n",
    "    image = np.array(image)\n",
    "    flattened_image = image.flatten()\n",
    "    return flattened_image\n",
    "\n",
    "# Lista para armazenar as features das imagens\n",
    "X = []\n",
    "\n",
    "# Lista para armazenar os rótulos das imagens\n",
    "y = []\n",
    "\n",
    "# Percorrer os arquivos na pasta de imagens\n",
    "for root, dirs, files in os.walk(folder_path):\n",
    "    for file in files:\n",
    "        if file.endswith('.jpg') or file.endswith('.png'):  # Filtrar apenas arquivos de imagem\n",
    "            image_path = os.path.join(root, file)\n",
    "            label = root.split('/')[-1]  # Extrair o rótulo da pasta pai\n",
    "            label = label_map[label]  # Mapear o rótulo para um valor numérico\n",
    "            \n",
    "            features = extract_features(image_path)\n",
    "            X.append(features)\n",
    "            y.append(label)\n",
    "\n",
    "# Converter as listas para arrays numpy\n",
    "X = np.array(X)\n",
    "y = np.array(y)\n",
    "\n",
    "# Dividir os dados em conjuntos de treinamento e teste\n",
    "X_train, X_test, y_train, y_test = train_test_split(X, y, test_size=0.2, random_state=42)\n",
    "\n",
    "# Treinar o modelo de aprendizado de máquina\n",
    "model = SVC()\n",
    "model.fit(X_train, y_train)\n",
    "\n",
    "# Realizar previsões no conjunto de teste\n",
    "y_pred = model.predict(X_test)\n",
    "\n",
    "# Calcular a acurácia do modelo\n",
    "accuracy = accuracy_score(y_test, y_pred)\n",
    "print(\"Acurácia do modelo:\", accuracy)\n"
   ]
  },
  {
   "cell_type": "markdown",
   "metadata": {},
   "source": [
    "# Classificação por Random Forest"
   ]
  },
  {
   "cell_type": "code",
   "execution_count": 3,
   "metadata": {},
   "outputs": [
    {
     "name": "stdout",
     "output_type": "stream",
     "text": [
      "Acurácia do modelo: 0.5002582200034429\n"
     ]
    }
   ],
   "source": [
    "import os\n",
    "import numpy as np\n",
    "from PIL import Image\n",
    "from sklearn.model_selection import train_test_split\n",
    "from sklearn.ensemble import RandomForestClassifier\n",
    "from sklearn.metrics import accuracy_score\n",
    "\n",
    "folder_path = 'Data'  # Substitua pelo caminho da pasta de imagens\n",
    "label_map = {'anger': 0, 'contempt': 1, 'disgust': 2, 'fear': 3,'happy': 4, 'neutral': 5, 'sad': 6, 'surprise': 7}  # Mapeamento dos rótulos para valores numéricos\n",
    "\n",
    "# Função para extrair as features das imagens\n",
    "def extract_features(image_path):\n",
    "    image = Image.open(image_path)\n",
    "    image = image.resize((100, 100))  # Redimensionar a imagem conforme necessário\n",
    "    image = np.array(image)\n",
    "    flattened_image = image.flatten()\n",
    "    return flattened_image\n",
    "\n",
    "# Lista para armazenar as features das imagens\n",
    "X = []\n",
    "\n",
    "# Lista para armazenar os rótulos das imagens\n",
    "y = []\n",
    "\n",
    "# Percorrer os arquivos na pasta de imagens\n",
    "for root, dirs, files in os.walk(folder_path):\n",
    "    for file in files:\n",
    "        if file.endswith('.jpg') or file.endswith('.png'):  # Filtrar apenas arquivos de imagem\n",
    "            image_path = os.path.join(root, file)\n",
    "            label = root.split('/')[-1]  # Extrair o rótulo da pasta pai\n",
    "            label = label_map[label]  # Mapear o rótulo para um valor numérico\n",
    "            \n",
    "            features = extract_features(image_path)\n",
    "            X.append(features)\n",
    "            y.append(label)\n",
    "\n",
    "# Converter as listas para arrays numpy\n",
    "X = np.array(X)\n",
    "y = np.array(y)\n",
    "\n",
    "# Dividir os dados em conjuntos de treinamento e teste\n",
    "X_train, X_test, y_train, y_test = train_test_split(X, y, test_size=0.2, random_state=42)\n",
    "\n",
    "# Treinar o modelo de Random Forest\n",
    "model = RandomForestClassifier(n_estimators=100, random_state=42)\n",
    "model.fit(X_train, y_train)\n",
    "\n",
    "# Realizar previsões no conjunto de teste\n",
    "y_pred = model.predict(X_test)\n",
    "\n",
    "# Calcular a acurácia do modelo\n",
    "accuracy = accuracy_score(y_test, y_pred)\n",
    "print(\"Acurácia do modelo:\", accuracy)\n"
   ]
  },
  {
   "cell_type": "code",
   "execution_count": 4,
   "metadata": {},
   "outputs": [
    {
     "name": "stdout",
     "output_type": "stream",
     "text": [
      "Acurácia do modelo: 0.41375\n"
     ]
    }
   ],
   "source": [
    "import os\n",
    "import numpy as np\n",
    "from PIL import Image\n",
    "from sklearn.model_selection import train_test_split\n",
    "from sklearn.ensemble import RandomForestClassifier\n",
    "from sklearn.metrics import accuracy_score\n",
    "\n",
    "folder_path = 'Data'  # Substitua pelo caminho da pasta de imagens\n",
    "label_map = {'anger': 0, 'contempt': 1, 'disgust': 2, 'fear': 3,'happy': 4, 'neutral': 5, 'sad': 6, 'surprise': 7}  # Mapeamento dos rótulos para valores numéricos\n",
    "max_images_per_label = 500\n",
    "\n",
    "# Função para extrair as features das imagens\n",
    "def extract_features(image_path):\n",
    "    image = Image.open(image_path)\n",
    "    image = image.resize((100, 100))  # Redimensionar a imagem conforme necessário\n",
    "    image = np.array(image)\n",
    "    flattened_image = image.flatten()\n",
    "    return flattened_image\n",
    "\n",
    "# Dicionário para rastrear o número de imagens por rótulo\n",
    "image_count = {}\n",
    "\n",
    "# Lista para armazenar as features das imagens\n",
    "X = []\n",
    "\n",
    "# Lista para armazenar os rótulos das imagens\n",
    "y = []\n",
    "\n",
    "# Percorrer os arquivos na pasta de imagens\n",
    "for root, dirs, files in os.walk(folder_path):\n",
    "    for file in files:\n",
    "        if file.endswith('.jpg') or file.endswith('.png'):  # Filtrar apenas arquivos de imagem\n",
    "            image_path = os.path.join(root, file)\n",
    "            label = root.split('/')[-1]  # Extrair o rótulo da pasta pai\n",
    "            \n",
    "            # Verificar se o número máximo de imagens para o rótulo foi atingido\n",
    "            if label in image_count and image_count[label] >= max_images_per_label:\n",
    "                continue\n",
    "            \n",
    "            # Atualizar o contador de imagens para o rótulo atual\n",
    "            image_count[label] = image_count.get(label, 0) + 1\n",
    "            \n",
    "            features = extract_features(image_path)\n",
    "            X.append(features)\n",
    "            y.append(label_map[label])\n",
    "\n",
    "# Converter as listas para arrays numpy\n",
    "X = np.array(X)\n",
    "y = np.array(y)\n",
    "\n",
    "# Dividir os dados em conjuntos de treinamento e teste\n",
    "X_train, X_test, y_train, y_test = train_test_split(X, y, test_size=0.2, random_state=42)\n",
    "\n",
    "# Treinar o modelo de Random Forest\n",
    "model = RandomForestClassifier(n_estimators=100, random_state=42)\n",
    "model.fit(X_train, y_train)\n",
    "\n",
    "# Realizar previsões no conjunto de teste\n",
    "y_pred = model.predict(X_test)\n",
    "\n",
    "# Calcular a acurácia do modelo\n",
    "accuracy = accuracy_score(y_test, y_pred)\n",
    "print(\"Acurácia do modelo:\", accuracy)\n"
   ]
  }
 ],
 "metadata": {
  "kernelspec": {
   "display_name": "Python 3 (ipykernel)",
   "language": "python",
   "name": "python3"
  },
  "language_info": {
   "codemirror_mode": {
    "name": "ipython",
    "version": 3
   },
   "file_extension": ".py",
   "mimetype": "text/x-python",
   "name": "python",
   "nbconvert_exporter": "python",
   "pygments_lexer": "ipython3",
   "version": "3.8.10"
  },
  "orig_nbformat": 4
 },
 "nbformat": 4,
 "nbformat_minor": 2
}
